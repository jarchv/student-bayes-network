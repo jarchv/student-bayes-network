{
 "cells": [
  {
   "cell_type": "markdown",
   "metadata": {},
   "source": [
    "# Student Bayes Network"
   ]
  },
  {
   "cell_type": "code",
   "execution_count": 1,
   "metadata": {},
   "outputs": [
    {
     "data": {
      "text/html": [
       "<img src='imgs/graph.png' width=800>\n"
      ],
      "text/plain": [
       "<IPython.core.display.HTML object>"
      ]
     },
     "metadata": {},
     "output_type": "display_data"
    }
   ],
   "source": [
    "%%html\n",
    "<img src='imgs/graph.png' width=800>"
   ]
  },
  {
   "cell_type": "markdown",
   "metadata": {},
   "source": [
    "## Building dependences by graph\n",
    "1. We set the states of the variables.\n",
    "    - Variables that not have children have a probability asociated to each state.\n",
    "    - Variables that have children have a dictionary with the children state asociated to a probability.\n",
    "2. We set all the variables that have children.\n",
    "3. Variables:\n",
    "    - Difficulty\n",
    "    - Intelligence\n",
    "    - SAT\n",
    "    - Grade\n",
    "    - Letter"
   ]
  },
  {
   "cell_type": "code",
   "execution_count": 2,
   "metadata": {},
   "outputs": [],
   "source": [
    "def build_graph():\n",
    "    D = {'states': {0: 0.6, 1: 0.4},\n",
    "         'children': None}\n",
    "    \n",
    "    I = {'states': {0: 0.7, 1: 0.3},\n",
    "         'children': None}\n",
    "    \n",
    "    G = {'states':{ 1: {(0,0):0.3, (0,1):0.05, (1,0):0.9 , (1,1):0.5},\n",
    "                                 2: {(0,0):0.4, (0,1):0.25, (1,0):0.08, (1,1):0.3},\n",
    "                                 3: {(0,0):0.3, (0,1):0.7 , (1,0):0.02, (1,1):0.2}},\n",
    "         'children': {'Intelligence':0, 'Difficulty':1}}\n",
    "    \n",
    "    S = {'states': {0: {0:0.95, 1:0.2},\n",
    "                     1: {0:0.05, 1:0.8}},\n",
    "         'children': {'Intelligence':0}}\n",
    "    \n",
    "    L = {'states':{0: {1:0.1 , 2:0.4, 3:0.99},\n",
    "                     1: {1:0.9 , 2:0.6, 3:0.01}},\n",
    "         'children': {'Grade':0}}\n",
    "\n",
    "    graph = {'Difficulty': D, 'Intelligence': I, 'Grade': G, 'SAT': S, 'Letter': L}\n",
    "    \n",
    "    return graph"
   ]
  },
  {
   "cell_type": "markdown",
   "metadata": {},
   "source": [
    "We need a function to truncate probabilities values in order to get a better vizualization of probabilities."
   ]
  },
  {
   "cell_type": "code",
   "execution_count": 3,
   "metadata": {},
   "outputs": [],
   "source": [
    "def truncateDecimal(f):\n",
    "    f = f*1000/1000\n",
    "    s = \"%.4f\" % f\n",
    "    return float(s)"
   ]
  },
  {
   "cell_type": "markdown",
   "metadata": {},
   "source": [
    "## Getting probabilities on each variable\n",
    "\n",
    "1. We verify if a variables have children.\n",
    "    - If a variable have children we calculate the probability of his children.\n",
    "    - If a variable don't have children we normalize directly the variable's probability.\n",
    "    \n",
    "2. Normalize:\n",
    "    - Go through each state of the variables.\n",
    "    - Get state's probability.\n",
    "    - Multiply by the probability of the child's state.\n",
    "    - Divide each probability by the sum of all of them."
   ]
  },
  {
   "cell_type": "code",
   "execution_count": 4,
   "metadata": {},
   "outputs": [],
   "source": [
    "def getProb(reset_bn=True, evidences=None, verbose=True):\n",
    "    if reset_bn:\n",
    "        BayNet = build_graph()\n",
    "    \n",
    "    def normalize(states, children, BayNet,deep):\n",
    "        sump = 0.0\n",
    "        res_prob  = {}\n",
    "        if children:\n",
    "            rev_chdic = dict(zip(children.values(), children.keys()))\n",
    "        for key_state, children_states in states.items():\n",
    "            if isinstance(children_states,(int,float)):\n",
    "                res_prob[key_state] = children_states\n",
    "                sump               += children_states\n",
    "            else:\n",
    "                sum_state = 0\n",
    "                for children_state,p in children_states.items():\n",
    "                    prob_state = p\n",
    "                    if isinstance(children_state, (int,float)):\n",
    "                        if rev_chdic[0] in res:\n",
    "                            prob_state *= res[rev_chdic[0]][children_state]\n",
    "\n",
    "                    else:\n",
    "                        for i, child_state in enumerate(children_state):\n",
    "                            if rev_chdic[i] in res:\n",
    "                                prob_state *= res[rev_chdic[i]][child_state]\n",
    "                            else:\n",
    "                                prob_state *=  BayNet[rev_chdic[i]]['states'][child_state]\n",
    "                    sum_state      += prob_state\n",
    "                res_prob[key_state] = sum_state\n",
    "                sump               += sum_state\n",
    "            \n",
    "        for key, val in res_prob.items():\n",
    "            res_prob[key] = truncateDecimal(val/sump)\n",
    "        return res_prob\n",
    "    \n",
    "    def setProb(res, key, BayNet, deep):\n",
    "        if BayNet[key]['children']:\n",
    "            deep +=1\n",
    "            for child in BayNet[key]['children']:\n",
    "                if verbose:\n",
    "                    print('\\t'*deep + 'child',child, '<-',BayNet[key]['children'] )\n",
    "                setProb(res, child, BayNet,deep) \n",
    "            if verbose:\n",
    "                print('\\t'*(deep+1) + 'normalize ->',key)\n",
    "            res[key] = normalize(BayNet[key]['states'],BayNet[key]['children'], BayNet,0)\n",
    "        else:\n",
    "            if key not in res:\n",
    "                if verbose:\n",
    "                    print('\\t'*(deep+1) + 'normalize ->',key)\n",
    "                res[key] = normalize(BayNet[key]['states'], None, BayNet,deep)\n",
    "    \n",
    "    def setEvidence(ev, res):\n",
    "        ev_prob = {}\n",
    "        for ev_state in BayNet[ev[0]]['states']:\n",
    "            if ev_state == ev[1]:\n",
    "                ev_prob[ev_state] = 1.0\n",
    "            else:\n",
    "                ev_prob[ev_state] = 0.0\n",
    "        res[ev[0]] = ev_prob\n",
    "    \n",
    "    def setEviChildren(res, children, ev_parent, BayNet):\n",
    "        if children:\n",
    "            for child in children:\n",
    "                res[child] = normalize(BayNet[child]['states'], BayNet[child]['children'], BayNet, 0)\n",
    "                for s, p in res[child].items():\n",
    "                    res[child][s] = ev_parent[s]*res[child][s]\n",
    "                \n",
    "                res[child] = normalize(res[child], None, BayNet, 0)\n",
    "                setEviChildren(res, BayNet[child]['children'], res[child], BayNet)\n",
    "        \n",
    "    res = {}\n",
    "\n",
    "    if evidences:\n",
    "        for evidence in evidences:\n",
    "            if evidence[0] in BayNet:\n",
    "                setEvidence(evidence, res)\n",
    "                setEviChildren(res, BayNet[evidence[0]]['children'], BayNet[evidence[0]]['states'][evidence[1]], BayNet)                        \n",
    "            else:\n",
    "                print(\"Evidence's name not found!\\n\")\n",
    "\n",
    "    for key, node in BayNet.items():\n",
    "        if verbose:\n",
    "            print('key :', key)\n",
    "        if key not in res:\n",
    "            setProb(res, key, BayNet,0) \n",
    "    return res"
   ]
  },
  {
   "cell_type": "code",
   "execution_count": 5,
   "metadata": {},
   "outputs": [],
   "source": [
    "def printProb(PD):\n",
    "    for key, val in PD.items():\n",
    "        print('{:10}\\t\\t: {}'.format(key, val)) "
   ]
  },
  {
   "cell_type": "markdown",
   "metadata": {},
   "source": [
    "How works **getProb**:"
   ]
  },
  {
   "cell_type": "code",
   "execution_count": 6,
   "metadata": {
    "scrolled": true
   },
   "outputs": [
    {
     "name": "stdout",
     "output_type": "stream",
     "text": [
      "key : Letter\n",
      "\tchild Grade <- {'Grade': 0}\n",
      "\t\tchild Difficulty <- {'Difficulty': 1, 'Intelligence': 0}\n",
      "\t\t\tnormalize -> Difficulty\n",
      "\t\tchild Intelligence <- {'Difficulty': 1, 'Intelligence': 0}\n",
      "\t\t\tnormalize -> Intelligence\n",
      "\t\t\tnormalize -> Grade\n",
      "\t\tnormalize -> Letter\n",
      "key : Difficulty\n",
      "key : Intelligence\n",
      "key : Grade\n",
      "key : SAT\n",
      "\tchild Intelligence <- {'Intelligence': 0}\n",
      "\t\tnormalize -> SAT\n"
     ]
    }
   ],
   "source": [
    "PD = getProb(reset_bn=True)"
   ]
  },
  {
   "cell_type": "markdown",
   "metadata": {},
   "source": [
    "### Probabilities"
   ]
  },
  {
   "cell_type": "code",
   "execution_count": 7,
   "metadata": {},
   "outputs": [
    {
     "name": "stdout",
     "output_type": "stream",
     "text": [
      "Letter    \t\t: {0: 0.4977, 1: 0.5023}\n",
      "Difficulty\t\t: {0: 0.6, 1: 0.4}\n",
      "Intelligence\t\t: {0: 0.7, 1: 0.3}\n",
      "Grade     \t\t: {1: 0.362, 2: 0.2884, 3: 0.3496}\n",
      "SAT       \t\t: {0: 0.725, 1: 0.275}\n"
     ]
    }
   ],
   "source": [
    "printProb(PD)"
   ]
  },
  {
   "cell_type": "markdown",
   "metadata": {},
   "source": [
    "## Comparation with SAMIAM"
   ]
  },
  {
   "cell_type": "markdown",
   "metadata": {},
   "source": [
    "We have the same probability distribution as Samiam"
   ]
  },
  {
   "cell_type": "code",
   "execution_count": 8,
   "metadata": {},
   "outputs": [
    {
     "data": {
      "text/html": [
       "<img src='imgs/disprobinit.png'>\n"
      ],
      "text/plain": [
       "<IPython.core.display.HTML object>"
      ]
     },
     "metadata": {},
     "output_type": "display_data"
    }
   ],
   "source": [
    "%%html\n",
    "<img src='imgs/disprobinit.png'>"
   ]
  },
  {
   "cell_type": "markdown",
   "metadata": {},
   "source": [
    "Function to get the probability distribution of one variables."
   ]
  },
  {
   "cell_type": "code",
   "execution_count": 9,
   "metadata": {},
   "outputs": [],
   "source": [
    "def query(key, prob_dist):\n",
    "    return prob_dist[key]   "
   ]
  },
  {
   "cell_type": "code",
   "execution_count": 10,
   "metadata": {},
   "outputs": [
    {
     "data": {
      "text/plain": [
       "{0: 0.7, 1: 0.3}"
      ]
     },
     "execution_count": 10,
     "metadata": {},
     "output_type": "execute_result"
    }
   ],
   "source": [
    "query(\"Intelligence\", PD)"
   ]
  },
  {
   "cell_type": "code",
   "execution_count": 11,
   "metadata": {},
   "outputs": [
    {
     "data": {
      "text/plain": [
       "{0: 0.4977, 1: 0.5023}"
      ]
     },
     "execution_count": 11,
     "metadata": {},
     "output_type": "execute_result"
    }
   ],
   "source": [
    "query(\"Letter\", PD)"
   ]
  },
  {
   "cell_type": "markdown",
   "metadata": {},
   "source": [
    "## Setting an evidence"
   ]
  },
  {
   "cell_type": "code",
   "execution_count": 12,
   "metadata": {},
   "outputs": [],
   "source": [
    "PD = getProb(reset_bn=True, evidences = [('Intelligence',0)], verbose=False)"
   ]
  },
  {
   "cell_type": "code",
   "execution_count": 13,
   "metadata": {},
   "outputs": [
    {
     "name": "stdout",
     "output_type": "stream",
     "text": [
      "Letter    \t\t: {0: 0.6114, 1: 0.3886}\n",
      "Difficulty\t\t: {0: 0.6, 1: 0.4}\n",
      "Intelligence\t\t: {0: 1.0, 1: 0.0}\n",
      "Grade     \t\t: {1: 0.2, 2: 0.34, 3: 0.46}\n",
      "SAT       \t\t: {0: 0.95, 1: 0.05}\n"
     ]
    }
   ],
   "source": [
    "printProb(PD)"
   ]
  },
  {
   "cell_type": "markdown",
   "metadata": {},
   "source": [
    "We have the same probability distribution as Samiam also setting an evidence."
   ]
  },
  {
   "cell_type": "code",
   "execution_count": 14,
   "metadata": {},
   "outputs": [
    {
     "data": {
      "text/html": [
       "<img src='imgs/evi1.png'>\n"
      ],
      "text/plain": [
       "<IPython.core.display.HTML object>"
      ]
     },
     "metadata": {},
     "output_type": "display_data"
    }
   ],
   "source": [
    "%%html\n",
    "<img src='imgs/evi1.png'>"
   ]
  },
  {
   "cell_type": "code",
   "execution_count": 15,
   "metadata": {},
   "outputs": [],
   "source": [
    "PD = getProb(reset_bn=True, evidences = [('Difficulty',1)], verbose=False)"
   ]
  },
  {
   "cell_type": "code",
   "execution_count": 16,
   "metadata": {},
   "outputs": [
    {
     "name": "stdout",
     "output_type": "stream",
     "text": [
      "Letter    \t\t: {0: 0.669, 1: 0.331}\n",
      "Difficulty\t\t: {0: 0.0, 1: 1.0}\n",
      "Intelligence\t\t: {0: 0.7, 1: 0.3}\n",
      "Grade     \t\t: {1: 0.185, 2: 0.265, 3: 0.55}\n",
      "SAT       \t\t: {0: 0.725, 1: 0.275}\n"
     ]
    }
   ],
   "source": [
    "printProb(PD)"
   ]
  },
  {
   "cell_type": "code",
   "execution_count": 17,
   "metadata": {},
   "outputs": [
    {
     "data": {
      "text/html": [
       "<img src='imgs/evi2.png'>\n"
      ],
      "text/plain": [
       "<IPython.core.display.HTML object>"
      ]
     },
     "metadata": {},
     "output_type": "display_data"
    }
   ],
   "source": [
    "%%html\n",
    "<img src='imgs/evi2.png'>"
   ]
  },
  {
   "cell_type": "markdown",
   "metadata": {},
   "source": [
    "## Setting two evidences"
   ]
  },
  {
   "cell_type": "code",
   "execution_count": 18,
   "metadata": {},
   "outputs": [],
   "source": [
    "evidences = [('Intelligence',0),('Difficulty',1)]\n",
    "PD = getProb(reset_bn=True, evidences = evidences, verbose=False)"
   ]
  },
  {
   "cell_type": "code",
   "execution_count": 19,
   "metadata": {},
   "outputs": [
    {
     "name": "stdout",
     "output_type": "stream",
     "text": [
      "Letter    \t\t: {0: 0.798, 1: 0.202}\n",
      "Difficulty\t\t: {0: 0.0, 1: 1.0}\n",
      "Intelligence\t\t: {0: 1.0, 1: 0.0}\n",
      "Grade     \t\t: {1: 0.05, 2: 0.25, 3: 0.7}\n",
      "SAT       \t\t: {0: 0.95, 1: 0.05}\n"
     ]
    }
   ],
   "source": [
    "printProb(PD)"
   ]
  },
  {
   "cell_type": "code",
   "execution_count": 20,
   "metadata": {},
   "outputs": [
    {
     "data": {
      "text/html": [
       "<img src='imgs/evi3.png'>\n"
      ],
      "text/plain": [
       "<IPython.core.display.HTML object>"
      ]
     },
     "metadata": {},
     "output_type": "display_data"
    }
   ],
   "source": [
    "%%html\n",
    "<img src='imgs/evi3.png'>"
   ]
  },
  {
   "cell_type": "markdown",
   "metadata": {},
   "source": [
    "## Setting evidence on *SAT* variable"
   ]
  },
  {
   "cell_type": "code",
   "execution_count": 21,
   "metadata": {},
   "outputs": [],
   "source": [
    "evidences = [('SAT',0)]\n",
    "PD = getProb(reset_bn=True, evidences = evidences, verbose=False)"
   ]
  },
  {
   "cell_type": "code",
   "execution_count": 22,
   "metadata": {},
   "outputs": [
    {
     "name": "stdout",
     "output_type": "stream",
     "text": [
      "Letter    \t\t: {0: 0.58, 1: 0.42}\n",
      "Difficulty\t\t: {0: 0.6, 1: 0.4}\n",
      "Intelligence\t\t: {0: 0.9172, 1: 0.0828}\n",
      "Grade     \t\t: {1: 0.2447, 2: 0.3258, 3: 0.4295}\n",
      "SAT       \t\t: {0: 1.0, 1: 0.0}\n"
     ]
    }
   ],
   "source": [
    "printProb(PD)"
   ]
  },
  {
   "cell_type": "code",
   "execution_count": 23,
   "metadata": {},
   "outputs": [
    {
     "data": {
      "text/html": [
       "<img src='imgs/evi4.png'>\n"
      ],
      "text/plain": [
       "<IPython.core.display.HTML object>"
      ]
     },
     "metadata": {},
     "output_type": "display_data"
    }
   ],
   "source": [
    "%%html\n",
    "<img src='imgs/evi4.png'>"
   ]
  },
  {
   "cell_type": "code",
   "execution_count": null,
   "metadata": {},
   "outputs": [],
   "source": []
  }
 ],
 "metadata": {
  "kernelspec": {
   "display_name": "Python 3",
   "language": "python",
   "name": "python3"
  },
  "language_info": {
   "codemirror_mode": {
    "name": "ipython",
    "version": 3
   },
   "file_extension": ".py",
   "mimetype": "text/x-python",
   "name": "python",
   "nbconvert_exporter": "python",
   "pygments_lexer": "ipython3",
   "version": "3.5.2"
  }
 },
 "nbformat": 4,
 "nbformat_minor": 2
}
